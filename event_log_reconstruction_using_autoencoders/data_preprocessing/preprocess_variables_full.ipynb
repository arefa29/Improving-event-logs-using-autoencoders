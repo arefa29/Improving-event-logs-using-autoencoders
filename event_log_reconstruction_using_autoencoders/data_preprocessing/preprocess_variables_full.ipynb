{
 "cells": [
  {
   "cell_type": "markdown",
   "id": "9087a47f",
   "metadata": {},
   "source": [
    "# 2. Preprocess the variables\n",
    "<hr>"
   ]
  },
  {
   "cell_type": "code",
   "execution_count": 2,
   "id": "03611378",
   "metadata": {},
   "outputs": [],
   "source": [
    "import os, sys\n",
    "import argparse\n",
    "import pandas as pd\n",
    "import numpy as np\n",
    "import pickle\n",
    "\n",
    "from dateutil.parser import parse\n",
    "from datetime import datetime\n",
    "import time\n",
    "\n",
    "pd.options.mode.chained_assignment = None #to run loop quicker without warnings"
   ]
  },
  {
   "cell_type": "code",
   "execution_count": 4,
   "id": "ad0ffd4e",
   "metadata": {},
   "outputs": [],
   "source": [
    "name = 'small_log'\n",
    "args = {\n",
    "    'data_dir': '../data/',\n",
    "    'data_file': name + '.csv',\n",
    "    'input_dir': '../input/{}/'.format(name),  \n",
    "    #pct of missing values\n",
    "    'nan_pct': 0.3, #30%\n",
    "    'train_pct': 0.6,\n",
    "    'val_pct': 0.2,\n",
    "}\n",
    "\n",
    "args = argparse.Namespace(**args)"
   ]
  },
  {
   "cell_type": "code",
   "execution_count": 5,
   "id": "710c3ac9",
   "metadata": {},
   "outputs": [],
   "source": [
    "file_name = os.path.join(args.input_dir, 'parameters_{}.pkl'.format(args.nan_pct))\n",
    "with open(file_name, 'rb') as f:\n",
    "    most_frequent_activity = pickle.load(f)\n",
    "    first_timestamp = pickle.load(f)\n",
    "    avai_instance = pickle.load(f)\n",
    "    nan_instance = pickle.load(f)\n",
    "    train_size = pickle.load(f)\n",
    "    val_size = pickle.load(f)\n",
    "    test_size = pickle.load(f)\n",
    "    train_row_num = pickle.load(f)\n",
    "    val_row_num = pickle.load(f)\n",
    "    test_row_num = pickle.load(f)\n",
    "    \n",
    "sys.path.insert(0, './../utils/')\n",
    "from utils import *"
   ]
  },
  {
   "cell_type": "code",
   "execution_count": 7,
   "id": "53489e78",
   "metadata": {},
   "outputs": [
    {
     "name": "stdout",
     "output_type": "stream",
     "text": [
      "Loading data:\n",
      "complete_df_full_0.3.csv\n",
      "missing_df_full_0.3.csv\n"
     ]
    }
   ],
   "source": [
    "#Load data\n",
    "complete_df_full_name = 'complete_df_full_{}.csv'.format(args.nan_pct)\n",
    "missing_df_full_name = 'missing_df_full_{}.csv'.format(args.nan_pct)\n",
    "print('Loading data:')\n",
    "print(complete_df_full_name)\n",
    "print(missing_df_full_name)"
   ]
  },
  {
   "cell_type": "code",
   "execution_count": 8,
   "id": "1943b098",
   "metadata": {},
   "outputs": [],
   "source": [
    "df_name = os.path.join(args.input_dir, complete_df_full_name)\n",
    "df = pd.read_csv(df_name)\n",
    "\n",
    "missing_df_name = os.path.join(args.input_dir, missing_df_full_name)\n",
    "missing_df = pd.read_csv(missing_df_name)"
   ]
  },
  {
   "cell_type": "code",
   "execution_count": 9,
   "id": "7b9e86de",
   "metadata": {},
   "outputs": [
    {
     "name": "stdout",
     "output_type": "stream",
     "text": [
      "Processing data...\n"
     ]
    }
   ],
   "source": [
    "# Preprocess data\n",
    "print('Processing data...')\n",
    "groupByCase = df.groupby(['CaseID'])\n",
    "\n",
    "groupByCase = df.groupby(['CaseID'])\n",
    "missing_groupByCase = missing_df.groupby(['CaseID'])\n",
    "\n",
    "normalized_complete_df = pd.DataFrame(columns=list(df)+['NormalizedTime'])\n",
    "normalized_missing_df = pd.DataFrame(columns=list(df)+['NormalizedTime'])\n",
    "min_max_storage = {}\n",
    "\n",
    "for i, j in zip(groupByCase, missing_groupByCase):\n",
    "    temp, missing_temp, missing_case_storage = minmaxScaler(i[0], i[1], j[1])\n",
    "    normalized_complete_df = normalized_complete_df.append(temp)\n",
    "    normalized_missing_df = normalized_missing_df.append(missing_temp)\n",
    "    min_max_storage.update(missing_case_storage)"
   ]
  },
  {
   "cell_type": "markdown",
   "id": "6270ba62",
   "metadata": {},
   "source": [
    "### One Hot Encoding Activity"
   ]
  },
  {
   "cell_type": "code",
   "execution_count": 10,
   "id": "6d52503e",
   "metadata": {},
   "outputs": [],
   "source": [
    "cat_var = ['Activity']\n",
    "\n",
    "\n",
    "# OHE: get k dummies out of k categorical levels \n",
    "enc_complete_df = OHE(normalized_complete_df, cat_var)\n",
    "enc_missing_df = OHE(normalized_missing_df, cat_var)"
   ]
  },
  {
   "cell_type": "code",
   "execution_count": 11,
   "id": "26ef804d",
   "metadata": {},
   "outputs": [],
   "source": [
    "c_df = enc_complete_df.copy()\n",
    "m_df = enc_missing_df.copy()\n",
    "enc_complete_df_w_normalized_time = c_df.drop(['CompleteTimestamp', 'CumTimeInterval'], axis=1)\n",
    "enc_missing_df_w_normalized_time = m_df.drop(['CompleteTimestamp', 'CumTimeInterval'], axis=1)\n",
    "\n",
    "c_df = enc_complete_df.copy()\n",
    "m_df = enc_missing_df.copy()\n",
    "enc_complete_df_w_time = c_df.drop(['CompleteTimestamp', 'NormalizedTime'], axis=1)\n",
    "enc_missing_df_w_time = m_df.drop(['CompleteTimestamp', 'NormalizedTime'], axis=1)"
   ]
  },
  {
   "cell_type": "markdown",
   "id": "bceaf3d7",
   "metadata": {},
   "source": [
    "### Create Masking Matrices\n",
    "- avai => available value\n",
    "- nan => nan value"
   ]
  },
  {
   "cell_type": "code",
   "execution_count": 12,
   "id": "ed933571",
   "metadata": {},
   "outputs": [],
   "source": [
    "avai_index_df = enc_missing_df_w_time.copy()\n",
    "nan_index_df = enc_missing_df_w_time.copy()"
   ]
  },
  {
   "cell_type": "code",
   "execution_count": 13,
   "id": "5f663d87",
   "metadata": {},
   "outputs": [
    {
     "name": "stdout",
     "output_type": "stream",
     "text": [
      "Mask for Time\n"
     ]
    }
   ],
   "source": [
    "# Mask for Time\n",
    "print('Mask for Time')\n",
    "for row in range(enc_missing_df_w_time.shape[0]):\n",
    "    if np.isnan(enc_missing_df_w_time.loc[row, 'CumTimeInterval']): # if nan Time\n",
    "        avai_index_df.loc[row, 'CumTimeInterval'] = 0\n",
    "        nan_index_df.loc[row, 'CumTimeInterval'] = 1\n",
    "    else:\n",
    "        avai_index_df.loc[row, 'CumTimeInterval'] = 1\n",
    "        nan_index_df.loc[row, 'CumTimeInterval'] = 0"
   ]
  },
  {
   "cell_type": "code",
   "execution_count": 14,
   "id": "96630b19",
   "metadata": {},
   "outputs": [
    {
     "name": "stdout",
     "output_type": "stream",
     "text": [
      "Mask for Activity\n"
     ]
    }
   ],
   "source": [
    "# Mask for Activity\n",
    "print('Mask for Activity')\n",
    "for row in range(enc_missing_df_w_time.shape[0]):\n",
    "    if np.any(enc_missing_df_w_time.iloc[row,2:]>0): #if avai Time\n",
    "        avai_index_df.iloc[row, 2:] = 1\n",
    "        nan_index_df.iloc[row, 2:] = 0\n",
    "    else:\n",
    "        avai_index_df.iloc[row, 2:] = 0\n",
    "        nan_index_df.iloc[row, 2:] = 1"
   ]
  },
  {
   "cell_type": "markdown",
   "id": "026eab78",
   "metadata": {},
   "source": [
    "### Group by case ID"
   ]
  },
  {
   "cell_type": "code",
   "execution_count": 15,
   "id": "6fbb90b9",
   "metadata": {},
   "outputs": [],
   "source": [
    "pad_index_df = enc_complete_df.copy()\n",
    "cols = [x for x in list(pad_index_df) if x != 'CaseID']\n",
    "pad_index_df.loc[:, cols] = 1\n",
    "\n",
    "enc_missing_df_w_normalized_time.fillna(0, inplace=True)\n",
    "enc_missing_df_w_time.fillna(0, inplace=True)\n",
    "\n",
    "enc_complete_w_normalized_time_groupByCase = enc_complete_df_w_normalized_time.groupby(['CaseID'])\n",
    "enc_missing_w_normalized_time_groupByCase = enc_missing_df_w_normalized_time.groupby(['CaseID'])\n",
    "\n",
    "enc_complete_w_time_groupByCase = enc_complete_df_w_time.groupby(['CaseID'])\n",
    "enc_missing_w_time_groupByCase = enc_missing_df_w_time.groupby(['CaseID'])"
   ]
  },
  {
   "cell_type": "code",
   "execution_count": 16,
   "id": "e82ba62c",
   "metadata": {},
   "outputs": [],
   "source": [
    "avai_index_df_groupByCase = avai_index_df.groupby(['CaseID'])\n",
    "nan_index_df_groupByCase = nan_index_df.groupby(['CaseID'])\n",
    "pad_index_df_groupByCase = pad_index_df.groupby(['CaseID'])"
   ]
  },
  {
   "cell_type": "markdown",
   "id": "d81fe7a7",
   "metadata": {},
   "source": [
    "### Get maximum length and pad rows"
   ]
  },
  {
   "cell_type": "code",
   "execution_count": 17,
   "id": "ec318c5a",
   "metadata": {},
   "outputs": [
    {
     "name": "stdout",
     "output_type": "stream",
     "text": [
      "Length of longest case: 14\n"
     ]
    }
   ],
   "source": [
    "maxlen = findLongestLength(groupByCase)\n",
    "print('Length of longest case: {}'.format(maxlen))"
   ]
  },
  {
   "cell_type": "code",
   "execution_count": 19,
   "id": "f31c5f65",
   "metadata": {},
   "outputs": [],
   "source": [
    "def getInput(groupByCase, cols, maxlen):\n",
    "    full_list = []\n",
    "    for case, data in groupByCase:\n",
    "        data = data[cols]\n",
    "        temp = data.to_numpy()\n",
    "        temp = padwithzeros(temp, maxlen)\n",
    "        full_list.append(temp)\n",
    "    inp = np.array(full_list)\n",
    "    return inp"
   ]
  },
  {
   "cell_type": "code",
   "execution_count": 20,
   "id": "e73e2ec5",
   "metadata": {},
   "outputs": [],
   "source": [
    "cols_w_time = [i for i in list(enc_complete_df_w_time) if i != 'CaseID']\n",
    "cols_w_normalized_time = [i for i in list(enc_complete_df_w_normalized_time) if i != 'CaseID']\n",
    "\n",
    "vectorized_complete_df_w_normalized_time = getInput(enc_complete_w_normalized_time_groupByCase, cols_w_normalized_time, maxlen)\n",
    "vectorized_missing_df_w_normalized_time = getInput(enc_missing_w_normalized_time_groupByCase, cols_w_normalized_time, maxlen)\n",
    "\n",
    "vectorized_complete_df_w_time = getInput(enc_complete_w_time_groupByCase, cols_w_time, maxlen)\n",
    "vectorized_missing_df_w_time = getInput(enc_missing_w_time_groupByCase, cols_w_time, maxlen)\n",
    "\n",
    "vectorized_avai_index_df = getInput(avai_index_df_groupByCase, cols_w_time, maxlen)\n",
    "vectorized_nan_index_df = getInput(nan_index_df_groupByCase, cols_w_time, maxlen)\n",
    "vectorized_pad_index_df = getInput(pad_index_df_groupByCase, cols_w_time, maxlen)\n",
    "\n",
    "\n",
    "complete_matrix_w_normalized_time = vectorized_complete_df_w_normalized_time\n",
    "missing_matrix_w_normalized_time = vectorized_missing_df_w_normalized_time\n",
    "\n",
    "avai_matrix = vectorized_avai_index_df\n",
    "nan_matrix = vectorized_nan_index_df\n",
    "pad_matrix = vectorized_pad_index_df"
   ]
  },
  {
   "cell_type": "code",
   "execution_count": 21,
   "id": "1d9cb3ea",
   "metadata": {},
   "outputs": [
    {
     "name": "stdout",
     "output_type": "stream",
     "text": [
      "Saving preprocessed data...\n",
      "Finish!!!\n"
     ]
    }
   ],
   "source": [
    "print('Saving preprocessed data...')\n",
    "preprocessed_data_name = os.path.join(args.input_dir, 'preprocessed_data_full_{}.pkl'.format(args.nan_pct))\n",
    "with open(preprocessed_data_name, 'wb') as f:\n",
    "    pickle.dump(min_max_storage, f, protocol=2)\n",
    "    pickle.dump(complete_matrix_w_normalized_time, f, protocol=2)\n",
    "    pickle.dump(missing_matrix_w_normalized_time, f, protocol=2)\n",
    "    pickle.dump(avai_matrix, f, protocol=2)\n",
    "    pickle.dump(nan_matrix, f, protocol=2)\n",
    "    pickle.dump(pad_matrix, f, protocol=2)\n",
    "    pickle.dump(cols_w_time, f, protocol=2)\n",
    "    pickle.dump(cols_w_normalized_time, f, protocol=2)\n",
    "    \n",
    "print('Finish!!!')"
   ]
  },
  {
   "cell_type": "code",
   "execution_count": 22,
   "id": "6a65830f",
   "metadata": {},
   "outputs": [
    {
     "data": {
      "text/plain": [
       "(2000, 14, 15)"
      ]
     },
     "execution_count": 22,
     "metadata": {},
     "output_type": "execute_result"
    }
   ],
   "source": [
    "pad_matrix.shape"
   ]
  },
  {
   "cell_type": "code",
   "execution_count": 23,
   "id": "bcbfda70",
   "metadata": {},
   "outputs": [
    {
     "data": {
      "text/plain": [
       "(2000, 14, 15)"
      ]
     },
     "execution_count": 23,
     "metadata": {},
     "output_type": "execute_result"
    }
   ],
   "source": [
    "complete_matrix_w_normalized_time.shape"
   ]
  },
  {
   "cell_type": "code",
   "execution_count": 24,
   "id": "fbaed573",
   "metadata": {},
   "outputs": [
    {
     "data": {
      "text/plain": [
       "(2000, 14, 15)"
      ]
     },
     "execution_count": 24,
     "metadata": {},
     "output_type": "execute_result"
    }
   ],
   "source": [
    "missing_matrix_w_normalized_time.shape"
   ]
  },
  {
   "cell_type": "code",
   "execution_count": null,
   "id": "eca2a3cb",
   "metadata": {},
   "outputs": [],
   "source": []
  }
 ],
 "metadata": {
  "kernelspec": {
   "display_name": "Python 3 (ipykernel)",
   "language": "python",
   "name": "python3"
  },
  "language_info": {
   "codemirror_mode": {
    "name": "ipython",
    "version": 3
   },
   "file_extension": ".py",
   "mimetype": "text/x-python",
   "name": "python",
   "nbconvert_exporter": "python",
   "pygments_lexer": "ipython3",
   "version": "3.7.13"
  }
 },
 "nbformat": 4,
 "nbformat_minor": 5
}
